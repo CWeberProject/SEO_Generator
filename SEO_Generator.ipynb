{
  "cells": [
    {
      "cell_type": "markdown",
      "metadata": {
        "id": "view-in-github",
        "colab_type": "text"
      },
      "source": [
        "<a href=\"https://colab.research.google.com/github/CWeberProject/SEO_Generator/blob/main/SEO_Generator.ipynb\" target=\"_parent\"><img src=\"https://colab.research.google.com/assets/colab-badge.svg\" alt=\"Open In Colab\"/></a>"
      ]
    },
    {
      "cell_type": "code",
      "execution_count": null,
      "metadata": {
        "colab": {
          "base_uri": "https://localhost:8080/",
          "height": 39
        },
        "id": "M9KNPHwJY-eW",
        "outputId": "9065bc98-d43e-489e-f7fd-175f5badf28b"
      },
      "outputs": [
        {
          "output_type": "display_data",
          "data": {
            "text/plain": [
              "<IPython.core.display.HTML object>"
            ],
            "text/html": [
              "\n",
              "     <input type=\"file\" id=\"files-f4b2d628-d586-4376-b6c5-76cee9e3d705\" name=\"files[]\" multiple disabled\n",
              "        style=\"border:none\" />\n",
              "     <output id=\"result-f4b2d628-d586-4376-b6c5-76cee9e3d705\">\n",
              "      Upload widget is only available when the cell has been executed in the\n",
              "      current browser session. Please rerun this cell to enable.\n",
              "      </output>\n",
              "      <script>// Copyright 2017 Google LLC\n",
              "//\n",
              "// Licensed under the Apache License, Version 2.0 (the \"License\");\n",
              "// you may not use this file except in compliance with the License.\n",
              "// You may obtain a copy of the License at\n",
              "//\n",
              "//      http://www.apache.org/licenses/LICENSE-2.0\n",
              "//\n",
              "// Unless required by applicable law or agreed to in writing, software\n",
              "// distributed under the License is distributed on an \"AS IS\" BASIS,\n",
              "// WITHOUT WARRANTIES OR CONDITIONS OF ANY KIND, either express or implied.\n",
              "// See the License for the specific language governing permissions and\n",
              "// limitations under the License.\n",
              "\n",
              "/**\n",
              " * @fileoverview Helpers for google.colab Python module.\n",
              " */\n",
              "(function(scope) {\n",
              "function span(text, styleAttributes = {}) {\n",
              "  const element = document.createElement('span');\n",
              "  element.textContent = text;\n",
              "  for (const key of Object.keys(styleAttributes)) {\n",
              "    element.style[key] = styleAttributes[key];\n",
              "  }\n",
              "  return element;\n",
              "}\n",
              "\n",
              "// Max number of bytes which will be uploaded at a time.\n",
              "const MAX_PAYLOAD_SIZE = 100 * 1024;\n",
              "\n",
              "function _uploadFiles(inputId, outputId) {\n",
              "  const steps = uploadFilesStep(inputId, outputId);\n",
              "  const outputElement = document.getElementById(outputId);\n",
              "  // Cache steps on the outputElement to make it available for the next call\n",
              "  // to uploadFilesContinue from Python.\n",
              "  outputElement.steps = steps;\n",
              "\n",
              "  return _uploadFilesContinue(outputId);\n",
              "}\n",
              "\n",
              "// This is roughly an async generator (not supported in the browser yet),\n",
              "// where there are multiple asynchronous steps and the Python side is going\n",
              "// to poll for completion of each step.\n",
              "// This uses a Promise to block the python side on completion of each step,\n",
              "// then passes the result of the previous step as the input to the next step.\n",
              "function _uploadFilesContinue(outputId) {\n",
              "  const outputElement = document.getElementById(outputId);\n",
              "  const steps = outputElement.steps;\n",
              "\n",
              "  const next = steps.next(outputElement.lastPromiseValue);\n",
              "  return Promise.resolve(next.value.promise).then((value) => {\n",
              "    // Cache the last promise value to make it available to the next\n",
              "    // step of the generator.\n",
              "    outputElement.lastPromiseValue = value;\n",
              "    return next.value.response;\n",
              "  });\n",
              "}\n",
              "\n",
              "/**\n",
              " * Generator function which is called between each async step of the upload\n",
              " * process.\n",
              " * @param {string} inputId Element ID of the input file picker element.\n",
              " * @param {string} outputId Element ID of the output display.\n",
              " * @return {!Iterable<!Object>} Iterable of next steps.\n",
              " */\n",
              "function* uploadFilesStep(inputId, outputId) {\n",
              "  const inputElement = document.getElementById(inputId);\n",
              "  inputElement.disabled = false;\n",
              "\n",
              "  const outputElement = document.getElementById(outputId);\n",
              "  outputElement.innerHTML = '';\n",
              "\n",
              "  const pickedPromise = new Promise((resolve) => {\n",
              "    inputElement.addEventListener('change', (e) => {\n",
              "      resolve(e.target.files);\n",
              "    });\n",
              "  });\n",
              "\n",
              "  const cancel = document.createElement('button');\n",
              "  inputElement.parentElement.appendChild(cancel);\n",
              "  cancel.textContent = 'Cancel upload';\n",
              "  const cancelPromise = new Promise((resolve) => {\n",
              "    cancel.onclick = () => {\n",
              "      resolve(null);\n",
              "    };\n",
              "  });\n",
              "\n",
              "  // Wait for the user to pick the files.\n",
              "  const files = yield {\n",
              "    promise: Promise.race([pickedPromise, cancelPromise]),\n",
              "    response: {\n",
              "      action: 'starting',\n",
              "    }\n",
              "  };\n",
              "\n",
              "  cancel.remove();\n",
              "\n",
              "  // Disable the input element since further picks are not allowed.\n",
              "  inputElement.disabled = true;\n",
              "\n",
              "  if (!files) {\n",
              "    return {\n",
              "      response: {\n",
              "        action: 'complete',\n",
              "      }\n",
              "    };\n",
              "  }\n",
              "\n",
              "  for (const file of files) {\n",
              "    const li = document.createElement('li');\n",
              "    li.append(span(file.name, {fontWeight: 'bold'}));\n",
              "    li.append(span(\n",
              "        `(${file.type || 'n/a'}) - ${file.size} bytes, ` +\n",
              "        `last modified: ${\n",
              "            file.lastModifiedDate ? file.lastModifiedDate.toLocaleDateString() :\n",
              "                                    'n/a'} - `));\n",
              "    const percent = span('0% done');\n",
              "    li.appendChild(percent);\n",
              "\n",
              "    outputElement.appendChild(li);\n",
              "\n",
              "    const fileDataPromise = new Promise((resolve) => {\n",
              "      const reader = new FileReader();\n",
              "      reader.onload = (e) => {\n",
              "        resolve(e.target.result);\n",
              "      };\n",
              "      reader.readAsArrayBuffer(file);\n",
              "    });\n",
              "    // Wait for the data to be ready.\n",
              "    let fileData = yield {\n",
              "      promise: fileDataPromise,\n",
              "      response: {\n",
              "        action: 'continue',\n",
              "      }\n",
              "    };\n",
              "\n",
              "    // Use a chunked sending to avoid message size limits. See b/62115660.\n",
              "    let position = 0;\n",
              "    do {\n",
              "      const length = Math.min(fileData.byteLength - position, MAX_PAYLOAD_SIZE);\n",
              "      const chunk = new Uint8Array(fileData, position, length);\n",
              "      position += length;\n",
              "\n",
              "      const base64 = btoa(String.fromCharCode.apply(null, chunk));\n",
              "      yield {\n",
              "        response: {\n",
              "          action: 'append',\n",
              "          file: file.name,\n",
              "          data: base64,\n",
              "        },\n",
              "      };\n",
              "\n",
              "      let percentDone = fileData.byteLength === 0 ?\n",
              "          100 :\n",
              "          Math.round((position / fileData.byteLength) * 100);\n",
              "      percent.textContent = `${percentDone}% done`;\n",
              "\n",
              "    } while (position < fileData.byteLength);\n",
              "  }\n",
              "\n",
              "  // All done.\n",
              "  yield {\n",
              "    response: {\n",
              "      action: 'complete',\n",
              "    }\n",
              "  };\n",
              "}\n",
              "\n",
              "scope.google = scope.google || {};\n",
              "scope.google.colab = scope.google.colab || {};\n",
              "scope.google.colab._files = {\n",
              "  _uploadFiles,\n",
              "  _uploadFilesContinue,\n",
              "};\n",
              "})(self);\n",
              "</script> "
            ]
          },
          "metadata": {}
        }
      ],
      "source": [
        "from google.colab import files\n",
        "uploaded = files.upload()"
      ]
    },
    {
      "cell_type": "code",
      "execution_count": null,
      "metadata": {
        "id": "8IWBrXRnYoOz"
      },
      "outputs": [],
      "source": [
        "import re\n",
        "import pandas as pd\n",
        "import matplotlib.pyplot as plt\n",
        "import requests\n",
        "from bs4 import BeautifulSoup\n",
        "from bs4 import NavigableString\n",
        "\n",
        "\n",
        "from sklearn.feature_extraction.text import TfidfVectorizer\n",
        "from sklearn.cluster import KMeans"
      ]
    },
    {
      "cell_type": "code",
      "execution_count": null,
      "metadata": {
        "id": "AI7ztxJZcO3L"
      },
      "outputs": [],
      "source": [
        "def extract_article_content(url):\n",
        "    # Send a GET request to the URL\n",
        "    response = requests.get(url)\n",
        "\n",
        "    if response.status_code == 200:\n",
        "        soup = BeautifulSoup(response.content, 'html.parser')\n",
        "\n",
        "        # Extract title\n",
        "        title = soup.find('title').get_text() if soup.find('title') else ''\n",
        "\n",
        "        # Create a new soup limited to the article's content only\n",
        "        specific_section = soup.find('section', {'class': 'gh-content gh-canvas'})\n",
        "        specific_soup = BeautifulSoup(str(specific_section), 'html.parser')\n",
        "\n",
        "        # Delete any unwanted sections (content table, image labels)\n",
        "        for figure in specific_soup.find_all('figure'):\n",
        "          figure.decompose()\n",
        "        for div in specific_soup.find_all('div'):\n",
        "          div.decompose()\n",
        "\n",
        "        # Extract headers (e.g., h1, h2, h3, etc.)\n",
        "        headers = [header.get_text() for header in specific_soup.find_all(['h1', 'h2', 'h3', 'h4', 'h5', 'h6'])]\n",
        "\n",
        "        # Extract text content\n",
        "        paragraphs = [p.get_text() for p in specific_soup.find_all('p')]\n",
        "        content = ' '.join(paragraphs)\n",
        "\n",
        "        return {\n",
        "        'Title': title,\n",
        "        'Headers': '\\n'.join(headers),\n",
        "        'Content': content\n",
        "            }\n",
        "    else:\n",
        "        print(f\"Failed to fetch URL: {url}\")\n",
        "        return None"
      ]
    },
    {
      "cell_type": "code",
      "execution_count": null,
      "metadata": {
        "id": "zK_5VQKiY6mI"
      },
      "outputs": [],
      "source": [
        "def extract_title_from_url(url):\n",
        "    # Extract the last part of the URL after the last '/'\n",
        "    parts = url.split('/')\n",
        "    title_with_dashes = parts[-2] if parts[-1] == '' else parts[-1]  # Consider -2 if last part is '/'\n",
        "\n",
        "    # Remove trailing '/' if present in the extracted title\n",
        "    if title_with_dashes.endswith('/'):\n",
        "        title_with_dashes = title_with_dashes[:-1]\n",
        "\n",
        "    # Check if the URL contains any language indication, exclude if found\n",
        "    if re.search(r'/(pt|es|fr|de|it|ru|pl)/', url):\n",
        "        return None  # Return None for non-English articles\n",
        "\n",
        "    # Use regex to replace dashes with spaces and convert to lowercase\n",
        "    title_with_spaces = re.sub(r'-', ' ', title_with_dashes).lower()\n",
        "\n",
        "    return title_with_spaces"
      ]
    },
    {
      "cell_type": "code",
      "execution_count": null,
      "metadata": {
        "id": "4AZb6LpyZW9L"
      },
      "outputs": [],
      "source": [
        "# Load sitemap as csv\n",
        "df = pd.read_csv(\"planner5d_blog_posts.csv\")\n",
        "\n",
        "# Drop unecessary columns\n",
        "df.drop(['lastmod','image/loc/__text','image/caption/__text'], axis = 'columns', inplace = True)\n",
        "\n",
        "# Create a duplicate of URLs in a new column\n",
        "df.insert(0, 'URLs', df['loc'])\n",
        "df = df.rename(columns={'URLs': 'URLs', 'loc': 'titles'})\n",
        "\n",
        "# Create a boolean mask filtering out all non-English blog posts\n",
        "df['titles'] = df['titles'].map(extract_title_from_url)\n",
        "\n",
        "# Drop all non-English blog posts\n",
        "df = df.dropna()\n",
        "\n",
        "# Reset the index\n",
        "df.reset_index(inplace = True)\n",
        "df = df.drop('index', axis = 1)\n",
        "\n",
        "df.head()"
      ]
    },
    {
      "cell_type": "code",
      "execution_count": null,
      "metadata": {
        "id": "vRIRiUMvxvki"
      },
      "outputs": [],
      "source": [
        "df['Title'] = None\n",
        "df['Headers']= None\n",
        "df['Content']= None\n",
        "i = 0\n",
        "\n",
        "for url in df['URLs']:\n",
        "  output = extract_article_content(url)\n",
        "  df.at[i, 'Title'] = output['Title']\n",
        "  df.at[i, 'Headers'] = output['Headers']\n",
        "  df.at[i, 'Content'] = output['Content']\n",
        "  i += 1\n",
        "\n",
        "df = df.drop('titles', axis = 1)\n",
        "df.head()"
      ]
    },
    {
      "cell_type": "code",
      "execution_count": null,
      "metadata": {
        "id": "iyMHog-RZos1"
      },
      "outputs": [],
      "source": [
        "# Change title values to Unicode\n",
        "articles = df['Content'].values.astype('U')"
      ]
    },
    {
      "cell_type": "code",
      "source": [
        "# Vectorize the text\n",
        "vectorizer = TfidfVectorizer(stop_words='english')\n",
        "features = vectorizer.fit_transform(articles)"
      ],
      "metadata": {
        "id": "IgWLhN7swaG_"
      },
      "execution_count": null,
      "outputs": []
    },
    {
      "cell_type": "code",
      "execution_count": null,
      "metadata": {
        "id": "qxJbNmajZr8d"
      },
      "outputs": [],
      "source": [
        "# Implement the Elbow method to find the optimal K number of clusters\n",
        "distorsions = []\n",
        "K = range(1,50)\n",
        "for k in K:\n",
        "    kmeanModel = KMeans(n_clusters = k, n_init=10)\n",
        "    kmeanModel.fit(features)\n",
        "    distorsions.append(kmeanModel.inertia_)"
      ]
    },
    {
      "cell_type": "code",
      "execution_count": null,
      "metadata": {
        "id": "LUqa1mR3Z-y5"
      },
      "outputs": [],
      "source": [
        "# Plot the results to find the optimal K value\n",
        "plt.figure(figsize=(16,8))\n",
        "plt.plot(K, distorsions,'bx-')\n",
        "plt.xlabel('k')\n",
        "plt.ylabel('Distorsion')\n",
        "plt.title('Elbow method showing the optimal k')\n",
        "plt.show()"
      ]
    },
    {
      "cell_type": "code",
      "execution_count": null,
      "metadata": {
        "id": "9B9ETORJaP0e"
      },
      "outputs": [],
      "source": [
        "# from sklearn.metrics import silhouette_score\n",
        "\n",
        "sil = []\n",
        "kmax = 50\n",
        "\n",
        "dissimilarity would not be defined for a single cluster, thus, minimum number of clusters should be 2\n",
        "for k in range(2, kmax+1):\n",
        "  kmeans = KMeans(n_clusters = k, n_init=10).fit(features)\n",
        "  labels = kmeans.labels_\n",
        "  sil.append(silhouette_score(features, labels, metric = 'euclidean'))"
      ]
    },
    {
      "cell_type": "code",
      "execution_count": null,
      "metadata": {
        "id": "THHdnKCKaTyK"
      },
      "outputs": [],
      "source": [
        "# Plot the results to find the optimal K value\n",
        "plt.figure(figsize=(16,8))\n",
        "plt.plot(K, sil,'bx-')\n",
        "plt.xlabel('k')\n",
        "plt.ylabel('Distorsion')\n",
        "plt.title('Elbow method showing the optimal k')\n",
        "plt.show()"
      ]
    },
    {
      "cell_type": "markdown",
      "metadata": {
        "id": "rCAPwi94acqO"
      },
      "source": [
        "Based on the results of both the Elbow method and the Silhouette method above, we will be choosing k = 25.\n",
        "\n",
        "Although it does not provide optimal distorion, it seems to be good enough without having too many clusters."
      ]
    },
    {
      "cell_type": "code",
      "execution_count": null,
      "metadata": {
        "id": "2TxeayE1aYGY"
      },
      "outputs": [],
      "source": [
        "# We will now apply the K-mean clustering method on our titles dataset\n",
        "k = 25\n",
        "model = KMeans(n_clusters = k, init = 'k-means++', max_iter = 300, n_init = 10)\n",
        "model.fit(features)"
      ]
    },
    {
      "cell_type": "code",
      "execution_count": null,
      "metadata": {
        "id": "7k0nXRMQakXD"
      },
      "outputs": [],
      "source": [
        "# Tag each cluster with the cluster it belongs to\n",
        "df['cluster'] = model.labels_"
      ]
    },
    {
      "cell_type": "code",
      "execution_count": null,
      "metadata": {
        "id": "fFbYvtEkam9Q"
      },
      "outputs": [],
      "source": [
        "# Group the clusters together into seperate files\n",
        "clusters = df.groupby('cluster')\n",
        "\n",
        "for cluster in clusters.groups:\n",
        "    f = open('cluster'+str(cluster)+'.csv', 'w') # Create a CSV file\n",
        "    data = clusters.get_group(cluster)['loc'] # Get loc column to extract titles\n",
        "    f.write(data.to_csv())\n",
        "    f.close"
      ]
    },
    {
      "cell_type": "code",
      "execution_count": null,
      "metadata": {
        "id": "ikrjmDXWaqNq"
      },
      "outputs": [],
      "source": []
    }
  ],
  "metadata": {
    "colab": {
      "provenance": [],
      "authorship_tag": "ABX9TyP6o/9i6NUcuYR4/K5lA4rM",
      "include_colab_link": true
    },
    "kernelspec": {
      "display_name": "Python 3",
      "name": "python3"
    },
    "language_info": {
      "name": "python"
    }
  },
  "nbformat": 4,
  "nbformat_minor": 0
}